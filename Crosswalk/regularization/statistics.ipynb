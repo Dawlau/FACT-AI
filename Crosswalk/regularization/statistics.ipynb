{
 "cells": [
  {
   "cell_type": "markdown",
   "source": [
    "# Random walk statistics"
   ],
   "metadata": {
    "collapsed": false
   }
  },
  {
   "cell_type": "code",
   "execution_count": 5,
   "outputs": [],
   "source": [
    "# Standard imports\n",
    "import numpy as np\n",
    "import matplotlib.pyplot as plt\n",
    "\n",
    "from collections import defaultdict"
   ],
   "metadata": {
    "collapsed": false
   }
  },
  {
   "cell_type": "code",
   "execution_count": 11,
   "outputs": [],
   "source": [
    "# Datasets\n",
    "DATA = '../data'\n",
    "WALK_LENGTH = 40\n",
    "DATASETS = {\n",
    "    'test_synth2': '/test_synth2/synthetic_n500_Pred0.7_Phom0.025_Phet0.001',\n",
    "    'synth2': '/synth2/synthetic_n500_Pred0.7_Phom0.025_Phet0.001',\n",
    "    # 'rice_subset': '/rice_subset/rice_subset',  # takes a lot to render\n",
    "    # 'synthetic_3layers': '/synthetic_3layers/synthetic_3layers_n500_Pred0.7_Phom0.025_Phet0.001', # color are not right\n",
    "    # 'twitter': '/twitter/twitter',  # takes a lot to render\n",
    "    # 'synth3': '/synth3/synthetic_3g_n500_Pred0.6_Pblue0.25_Prr0.025_Pbb0.025_Pgg0.025_Prb0.001_Prg0.0005_Pbg0.0005',\n",
    "}"
   ],
   "metadata": {
    "collapsed": false
   }
  },
  {
   "cell_type": "code",
   "execution_count": 12,
   "outputs": [],
   "source": [
    "def parse_walks(dataset, embedding):\n",
    "    walks = []\n",
    "    filename = DATA + \"/\" + dataset  + \"/\" + dataset + '.embeddings_' + embedding + '.walks.0'\n",
    "    with open(filename,  'r') as walk_file:\n",
    "        for line in walk_file:\n",
    "            walks.append([int(node_id) for node_id in line.split()])\n",
    "    return walks\n",
    "\n",
    "def parse_graph(dataset, embedding):\n",
    "    graph = defaultdict(float)\n",
    "    filename = DATA + \"/\" + dataset + \"/\" + dataset + '.embeddings_' + embedding + '.graph.out'\n",
    "    with open(filename, 'r') as graph_file:\n",
    "        for line in graph_file:\n",
    "            from_, to_, weight = line.split()\n",
    "            graph[(from_, to_)] = float(weight)\n",
    "    return graph\n",
    "\n",
    "def parse_node_properties(dataset):\n",
    "    property_map = dict()\n",
    "    with open(DATA + DATASETS[dataset] + '.attr', 'r') as attr_file:\n",
    "        for line in attr_file:\n",
    "            node_id, attr = line.split()\n",
    "            property_map[int(node_id)] = attr\n",
    "    return property_map\n",
    "\n",
    "def plot_edges_histogram(dataset, embedding):\n",
    "    G = parse_graph(dataset, embedding)\n",
    "    edge_weights = np.array(list(G.values()))\n",
    "    hist_array, bins = np.histogram(edge_weights, bins=25)\n",
    "    plt.hist(bins[:-1], bins, weights=hist_array)\n",
    "    plt.title(f'Edge weights distribution: {dataset} - {embedding}')\n",
    "    plt.show()\n",
    "\n",
    "def get_rw_statistics(dataset, embedding):\n",
    "    walks = parse_walks(dataset, embedding)\n",
    "    property_map = parse_node_properties(dataset)\n",
    "    nodes_visited = []\n",
    "    num_boundary_crossed = []\n",
    "    for walk in walks:\n",
    "        nodes_visited.append(len(np.unique(walk)))\n",
    "        crossings = 0\n",
    "        # when going from a to b, if prop_a != prop_b: boundary was crossed.\n",
    "        for i in range(len(walk)-2):\n",
    "            crossing_condition = property_map[walk[i]] != property_map[walk[i+1]]\n",
    "            crossings += 1 if crossing_condition else 0\n",
    "        num_boundary_crossed.append(crossings)\n",
    "    avg_visited = np.round(np.mean(nodes_visited), 2)\n",
    "    avg_crossing = np.round(np.mean(num_boundary_crossed), 2)\n",
    "    print(f'Dataset: {dataset} - Embedding: {embedding}')\n",
    "    print(f'Average number of nodes visited: {avg_visited} ({np.round(100*avg_visited/WALK_LENGTH, 2)}% of walk explored)')\n",
    "    print(f'Average number of times boundary was crossed: {avg_crossing}\\n')"
   ],
   "metadata": {
    "collapsed": false
   }
  },
  {
   "cell_type": "code",
   "execution_count": 16,
   "outputs": [
    {
     "name": "stdout",
     "output_type": "stream",
     "text": [
      "Deepwalk\n",
      "Dataset: synth2 - Embedding: unweighted_d32_1\n",
      "Average number of nodes visited: 32.09 (80.23% of walk explored)\n",
      "Average number of times boundary was crossed: 1.6\n",
      "\n",
      "CrossWalk Default RWs\n",
      "Dataset: synth2 - Embedding: soft_random_walk_5_bndry_0.5_exp_2.0_d32_1\n",
      "Average number of nodes visited: 21.62 (54.05% of walk explored)\n",
      "Average number of times boundary was crossed: 14.84\n",
      "\n",
      "CrossWalk Soft-self avoiding RWs\n"
     ]
    },
    {
     "ename": "FileNotFoundError",
     "evalue": "[Errno 2] No such file or directory: '../data/test_synth2/test_synth2.embeddings_soft_random_walk_5_bndry_0.5_exp_2.0_d32_1.walks.0'",
     "output_type": "error",
     "traceback": [
      "\u001B[0;31m---------------------------------------------------------------------------\u001B[0m",
      "\u001B[0;31mFileNotFoundError\u001B[0m                         Traceback (most recent call last)",
      "\u001B[0;32m<ipython-input-16-6a0df0be927b>\u001B[0m in \u001B[0;36m<module>\u001B[0;34m\u001B[0m\n\u001B[1;32m      7\u001B[0m \u001B[0;34m\u001B[0m\u001B[0m\n\u001B[1;32m      8\u001B[0m \u001B[0mprint\u001B[0m\u001B[0;34m(\u001B[0m\u001B[0;34m'CrossWalk Soft-self avoiding RWs'\u001B[0m\u001B[0;34m)\u001B[0m\u001B[0;34m\u001B[0m\u001B[0;34m\u001B[0m\u001B[0m\n\u001B[0;32m----> 9\u001B[0;31m \u001B[0mget_rw_statistics\u001B[0m\u001B[0;34m(\u001B[0m\u001B[0;34m'test_synth2'\u001B[0m\u001B[0;34m,\u001B[0m \u001B[0;34m'soft_random_walk_5_bndry_0.5_exp_2.0_d32_1'\u001B[0m\u001B[0;34m)\u001B[0m\u001B[0;34m\u001B[0m\u001B[0;34m\u001B[0m\u001B[0m\n\u001B[0m\u001B[1;32m     10\u001B[0m \u001B[0;31m# get_rw_statistics('test_synth2', 'random_walk_5_bndry_0.5_exp_4.0_d32_1')\u001B[0m\u001B[0;34m\u001B[0m\u001B[0;34m\u001B[0m\u001B[0;34m\u001B[0m\u001B[0m\n",
      "\u001B[0;32m<ipython-input-12-8b583669a5e8>\u001B[0m in \u001B[0;36mget_rw_statistics\u001B[0;34m(dataset, embedding)\u001B[0m\n\u001B[1;32m     33\u001B[0m \u001B[0;34m\u001B[0m\u001B[0m\n\u001B[1;32m     34\u001B[0m \u001B[0;32mdef\u001B[0m \u001B[0mget_rw_statistics\u001B[0m\u001B[0;34m(\u001B[0m\u001B[0mdataset\u001B[0m\u001B[0;34m,\u001B[0m \u001B[0membedding\u001B[0m\u001B[0;34m)\u001B[0m\u001B[0;34m:\u001B[0m\u001B[0;34m\u001B[0m\u001B[0;34m\u001B[0m\u001B[0m\n\u001B[0;32m---> 35\u001B[0;31m     \u001B[0mwalks\u001B[0m \u001B[0;34m=\u001B[0m \u001B[0mparse_walks\u001B[0m\u001B[0;34m(\u001B[0m\u001B[0mdataset\u001B[0m\u001B[0;34m,\u001B[0m \u001B[0membedding\u001B[0m\u001B[0;34m)\u001B[0m\u001B[0;34m\u001B[0m\u001B[0;34m\u001B[0m\u001B[0m\n\u001B[0m\u001B[1;32m     36\u001B[0m     \u001B[0mproperty_map\u001B[0m \u001B[0;34m=\u001B[0m \u001B[0mparse_node_properties\u001B[0m\u001B[0;34m(\u001B[0m\u001B[0mdataset\u001B[0m\u001B[0;34m)\u001B[0m\u001B[0;34m\u001B[0m\u001B[0;34m\u001B[0m\u001B[0m\n\u001B[1;32m     37\u001B[0m     \u001B[0mnodes_visited\u001B[0m \u001B[0;34m=\u001B[0m \u001B[0;34m[\u001B[0m\u001B[0;34m]\u001B[0m\u001B[0;34m\u001B[0m\u001B[0;34m\u001B[0m\u001B[0m\n",
      "\u001B[0;32m<ipython-input-12-8b583669a5e8>\u001B[0m in \u001B[0;36mparse_walks\u001B[0;34m(dataset, embedding)\u001B[0m\n\u001B[1;32m      2\u001B[0m     \u001B[0mwalks\u001B[0m \u001B[0;34m=\u001B[0m \u001B[0;34m[\u001B[0m\u001B[0;34m]\u001B[0m\u001B[0;34m\u001B[0m\u001B[0;34m\u001B[0m\u001B[0m\n\u001B[1;32m      3\u001B[0m     \u001B[0mfilename\u001B[0m \u001B[0;34m=\u001B[0m \u001B[0mDATA\u001B[0m \u001B[0;34m+\u001B[0m \u001B[0;34m\"/\"\u001B[0m \u001B[0;34m+\u001B[0m \u001B[0mdataset\u001B[0m  \u001B[0;34m+\u001B[0m \u001B[0;34m\"/\"\u001B[0m \u001B[0;34m+\u001B[0m \u001B[0mdataset\u001B[0m \u001B[0;34m+\u001B[0m \u001B[0;34m'.embeddings_'\u001B[0m \u001B[0;34m+\u001B[0m \u001B[0membedding\u001B[0m \u001B[0;34m+\u001B[0m \u001B[0;34m'.walks.0'\u001B[0m\u001B[0;34m\u001B[0m\u001B[0;34m\u001B[0m\u001B[0m\n\u001B[0;32m----> 4\u001B[0;31m     \u001B[0;32mwith\u001B[0m \u001B[0mopen\u001B[0m\u001B[0;34m(\u001B[0m\u001B[0mfilename\u001B[0m\u001B[0;34m,\u001B[0m  \u001B[0;34m'r'\u001B[0m\u001B[0;34m)\u001B[0m \u001B[0;32mas\u001B[0m \u001B[0mwalk_file\u001B[0m\u001B[0;34m:\u001B[0m\u001B[0;34m\u001B[0m\u001B[0;34m\u001B[0m\u001B[0m\n\u001B[0m\u001B[1;32m      5\u001B[0m         \u001B[0;32mfor\u001B[0m \u001B[0mline\u001B[0m \u001B[0;32min\u001B[0m \u001B[0mwalk_file\u001B[0m\u001B[0;34m:\u001B[0m\u001B[0;34m\u001B[0m\u001B[0;34m\u001B[0m\u001B[0m\n\u001B[1;32m      6\u001B[0m             \u001B[0mwalks\u001B[0m\u001B[0;34m.\u001B[0m\u001B[0mappend\u001B[0m\u001B[0;34m(\u001B[0m\u001B[0;34m[\u001B[0m\u001B[0mint\u001B[0m\u001B[0;34m(\u001B[0m\u001B[0mnode_id\u001B[0m\u001B[0;34m)\u001B[0m \u001B[0;32mfor\u001B[0m \u001B[0mnode_id\u001B[0m \u001B[0;32min\u001B[0m \u001B[0mline\u001B[0m\u001B[0;34m.\u001B[0m\u001B[0msplit\u001B[0m\u001B[0;34m(\u001B[0m\u001B[0;34m)\u001B[0m\u001B[0;34m]\u001B[0m\u001B[0;34m)\u001B[0m\u001B[0;34m\u001B[0m\u001B[0;34m\u001B[0m\u001B[0m\n",
      "\u001B[0;31mFileNotFoundError\u001B[0m: [Errno 2] No such file or directory: '../data/test_synth2/test_synth2.embeddings_soft_random_walk_5_bndry_0.5_exp_2.0_d32_1.walks.0'"
     ]
    }
   ],
   "source": [
    "print('Deepwalk')\n",
    "get_rw_statistics('synth2', 'unweighted_d32_1')\n",
    "\n",
    "print('CrossWalk Default RWs')\n",
    "get_rw_statistics('synth2', 'soft_random_walk_5_bndry_0.5_exp_2.0_d32_1')\n",
    "# get_rw_statistics('synth2', 'soft_random_walk_5_bndry_0.5_exp_4.0_d32_1')\n",
    "\n",
    "print('CrossWalk Soft-self avoiding RWs')\n",
    "get_rw_statistics('soft_test_synth2', 'random_walk_5_bndry_0.5_exp_2.0_d32_1')\n",
    "# get_rw_statistics('test_synth2', 'random_walk_5_bndry_0.5_exp_4.0_d32_1')"
   ],
   "metadata": {
    "collapsed": false
   }
  },
  {
   "cell_type": "code",
   "execution_count": 15,
   "outputs": [
    {
     "ename": "FileNotFoundError",
     "evalue": "[Errno 2] No such file or directory: '../data/test_synth2/test_synth2.embeddings_unweighted_d32_1.walks.0'",
     "output_type": "error",
     "traceback": [
      "\u001B[0;31m---------------------------------------------------------------------------\u001B[0m",
      "\u001B[0;31mFileNotFoundError\u001B[0m                         Traceback (most recent call last)",
      "\u001B[0;32m<ipython-input-15-e25991833688>\u001B[0m in \u001B[0;36m<module>\u001B[0;34m\u001B[0m\n\u001B[1;32m      1\u001B[0m \u001B[0;32mfor\u001B[0m \u001B[0mdataset\u001B[0m \u001B[0;32min\u001B[0m \u001B[0mDATASETS\u001B[0m\u001B[0;34m:\u001B[0m\u001B[0;34m\u001B[0m\u001B[0;34m\u001B[0m\u001B[0m\n\u001B[0;32m----> 2\u001B[0;31m     \u001B[0mget_rw_statistics\u001B[0m\u001B[0;34m(\u001B[0m\u001B[0mdataset\u001B[0m\u001B[0;34m,\u001B[0m \u001B[0;34m'unweighted_d32_1'\u001B[0m\u001B[0;34m)\u001B[0m\u001B[0;34m\u001B[0m\u001B[0;34m\u001B[0m\u001B[0m\n\u001B[0m\u001B[1;32m      3\u001B[0m     \u001B[0mget_rw_statistics\u001B[0m\u001B[0;34m(\u001B[0m\u001B[0mdataset\u001B[0m\u001B[0;34m,\u001B[0m \u001B[0;34m'random_walk_5_bndry_0.5_exp_2.0_d32_1'\u001B[0m\u001B[0;34m)\u001B[0m\u001B[0;34m\u001B[0m\u001B[0;34m\u001B[0m\u001B[0m\n\u001B[1;32m      4\u001B[0m     \u001B[0mget_rw_statistics\u001B[0m\u001B[0;34m(\u001B[0m\u001B[0mdataset\u001B[0m\u001B[0;34m,\u001B[0m \u001B[0;34m'random_walk_5_bndry_0.5_exp_4.0_d32_1'\u001B[0m\u001B[0;34m)\u001B[0m\u001B[0;34m\u001B[0m\u001B[0;34m\u001B[0m\u001B[0m\n\u001B[1;32m      5\u001B[0m     \u001B[0mprint\u001B[0m\u001B[0;34m(\u001B[0m\u001B[0;34m)\u001B[0m\u001B[0;34m\u001B[0m\u001B[0;34m\u001B[0m\u001B[0m\n",
      "\u001B[0;32m<ipython-input-12-8b583669a5e8>\u001B[0m in \u001B[0;36mget_rw_statistics\u001B[0;34m(dataset, embedding)\u001B[0m\n\u001B[1;32m     33\u001B[0m \u001B[0;34m\u001B[0m\u001B[0m\n\u001B[1;32m     34\u001B[0m \u001B[0;32mdef\u001B[0m \u001B[0mget_rw_statistics\u001B[0m\u001B[0;34m(\u001B[0m\u001B[0mdataset\u001B[0m\u001B[0;34m,\u001B[0m \u001B[0membedding\u001B[0m\u001B[0;34m)\u001B[0m\u001B[0;34m:\u001B[0m\u001B[0;34m\u001B[0m\u001B[0;34m\u001B[0m\u001B[0m\n\u001B[0;32m---> 35\u001B[0;31m     \u001B[0mwalks\u001B[0m \u001B[0;34m=\u001B[0m \u001B[0mparse_walks\u001B[0m\u001B[0;34m(\u001B[0m\u001B[0mdataset\u001B[0m\u001B[0;34m,\u001B[0m \u001B[0membedding\u001B[0m\u001B[0;34m)\u001B[0m\u001B[0;34m\u001B[0m\u001B[0;34m\u001B[0m\u001B[0m\n\u001B[0m\u001B[1;32m     36\u001B[0m     \u001B[0mproperty_map\u001B[0m \u001B[0;34m=\u001B[0m \u001B[0mparse_node_properties\u001B[0m\u001B[0;34m(\u001B[0m\u001B[0mdataset\u001B[0m\u001B[0;34m)\u001B[0m\u001B[0;34m\u001B[0m\u001B[0;34m\u001B[0m\u001B[0m\n\u001B[1;32m     37\u001B[0m     \u001B[0mnodes_visited\u001B[0m \u001B[0;34m=\u001B[0m \u001B[0;34m[\u001B[0m\u001B[0;34m]\u001B[0m\u001B[0;34m\u001B[0m\u001B[0;34m\u001B[0m\u001B[0m\n",
      "\u001B[0;32m<ipython-input-12-8b583669a5e8>\u001B[0m in \u001B[0;36mparse_walks\u001B[0;34m(dataset, embedding)\u001B[0m\n\u001B[1;32m      2\u001B[0m     \u001B[0mwalks\u001B[0m \u001B[0;34m=\u001B[0m \u001B[0;34m[\u001B[0m\u001B[0;34m]\u001B[0m\u001B[0;34m\u001B[0m\u001B[0;34m\u001B[0m\u001B[0m\n\u001B[1;32m      3\u001B[0m     \u001B[0mfilename\u001B[0m \u001B[0;34m=\u001B[0m \u001B[0mDATA\u001B[0m \u001B[0;34m+\u001B[0m \u001B[0;34m\"/\"\u001B[0m \u001B[0;34m+\u001B[0m \u001B[0mdataset\u001B[0m  \u001B[0;34m+\u001B[0m \u001B[0;34m\"/\"\u001B[0m \u001B[0;34m+\u001B[0m \u001B[0mdataset\u001B[0m \u001B[0;34m+\u001B[0m \u001B[0;34m'.embeddings_'\u001B[0m \u001B[0;34m+\u001B[0m \u001B[0membedding\u001B[0m \u001B[0;34m+\u001B[0m \u001B[0;34m'.walks.0'\u001B[0m\u001B[0;34m\u001B[0m\u001B[0;34m\u001B[0m\u001B[0m\n\u001B[0;32m----> 4\u001B[0;31m     \u001B[0;32mwith\u001B[0m \u001B[0mopen\u001B[0m\u001B[0;34m(\u001B[0m\u001B[0mfilename\u001B[0m\u001B[0;34m,\u001B[0m  \u001B[0;34m'r'\u001B[0m\u001B[0;34m)\u001B[0m \u001B[0;32mas\u001B[0m \u001B[0mwalk_file\u001B[0m\u001B[0;34m:\u001B[0m\u001B[0;34m\u001B[0m\u001B[0;34m\u001B[0m\u001B[0m\n\u001B[0m\u001B[1;32m      5\u001B[0m         \u001B[0;32mfor\u001B[0m \u001B[0mline\u001B[0m \u001B[0;32min\u001B[0m \u001B[0mwalk_file\u001B[0m\u001B[0;34m:\u001B[0m\u001B[0;34m\u001B[0m\u001B[0;34m\u001B[0m\u001B[0m\n\u001B[1;32m      6\u001B[0m             \u001B[0mwalks\u001B[0m\u001B[0;34m.\u001B[0m\u001B[0mappend\u001B[0m\u001B[0;34m(\u001B[0m\u001B[0;34m[\u001B[0m\u001B[0mint\u001B[0m\u001B[0;34m(\u001B[0m\u001B[0mnode_id\u001B[0m\u001B[0;34m)\u001B[0m \u001B[0;32mfor\u001B[0m \u001B[0mnode_id\u001B[0m \u001B[0;32min\u001B[0m \u001B[0mline\u001B[0m\u001B[0;34m.\u001B[0m\u001B[0msplit\u001B[0m\u001B[0;34m(\u001B[0m\u001B[0;34m)\u001B[0m\u001B[0;34m]\u001B[0m\u001B[0;34m)\u001B[0m\u001B[0;34m\u001B[0m\u001B[0;34m\u001B[0m\u001B[0m\n",
      "\u001B[0;31mFileNotFoundError\u001B[0m: [Errno 2] No such file or directory: '../data/test_synth2/test_synth2.embeddings_unweighted_d32_1.walks.0'"
     ]
    }
   ],
   "source": [
    "for dataset in DATASETS:\n",
    "    get_rw_statistics(dataset, 'unweighted_d32_1')\n",
    "    get_rw_statistics(dataset, 'random_walk_5_bndry_0.5_exp_2.0_d32_1')\n",
    "    get_rw_statistics(dataset, 'random_walk_5_bndry_0.5_exp_4.0_d32_1')\n",
    "    print()"
   ],
   "metadata": {
    "collapsed": false
   }
  },
  {
   "cell_type": "code",
   "execution_count": 163,
   "outputs": [
    {
     "data": {
      "text/plain": "<Figure size 432x288 with 1 Axes>",
      "image/png": "[encoded data removed]"
     },
     "metadata": {
      "needs_background": "light"
     },
     "output_type": "display_data"
    },
    {
     "data": {
      "text/plain": "<Figure size 432x288 with 1 Axes>",
      "image/png": "[encoded data removed]"
     },
     "metadata": {
      "needs_background": "light"
     },
     "output_type": "display_data"
    },
    {
     "data": {
      "text/plain": "<Figure size 432x288 with 1 Axes>",
      "image/png": "[encoded data removed]"
     },
     "metadata": {
      "needs_background": "light"
     },
     "output_type": "display_data"
    }
   ],
   "source": [
    "plot_edges_histogram('synth2', 'unweighted_d32_1')\n",
    "plot_edges_histogram('synth2', 'random_walk_5_bndry_0.5_exp_2.0_d32_1')\n",
    "plot_edges_histogram('synth2', 'random_walk_5_bndry_0.5_exp_4.0_d32_1')"
   ],
   "metadata": {
    "collapsed": false
   }
  },
  {
   "cell_type": "code",
   "execution_count": 25,
   "outputs": [
    {
     "name": "stdout",
     "output_type": "stream",
     "text": [
      "[1, 1, 0]\n"
     ]
    }
   ],
   "source": [
    "from collections import defaultdict\n",
    "from operator import itemgetter\n",
    "d = defaultdict(lambda: 0)\n",
    "d[frozenset(['0', '1'])] += 1\n",
    "keys = list(itemgetter(frozenset(['0', '1']), frozenset(['0', '1']), frozenset(['0', '2']))(d))\n",
    "print(keys)"
   ],
   "metadata": {
    "collapsed": false
   }
  },
  {
   "cell_type": "code",
   "execution_count": 26,
   "outputs": [
    {
     "name": "stdout",
     "output_type": "stream",
     "text": [
      "[0.9, 0.9, 1.0]\n"
     ]
    }
   ],
   "source": [
    "discount = [0.9 ** count for count in keys]\n",
    "print(discount)"
   ],
   "metadata": {
    "collapsed": false
   }
  },
  {
   "cell_type": "code",
   "execution_count": null,
   "outputs": [],
   "source": [],
   "metadata": {
    "collapsed": false
   }
  }
 ],
 "metadata": {
  "kernelspec": {
   "display_name": "Python 3",
   "language": "python",
   "name": "python3"
  },
  "language_info": {
   "codemirror_mode": {
    "name": "ipython",
    "version": 2
   },
   "file_extension": ".py",
   "mimetype": "text/x-python",
   "name": "python",
   "nbconvert_exporter": "python",
   "pygments_lexer": "ipython2",
   "version": "2.7.6"
  }
 },
 "nbformat": 4,
 "nbformat_minor": 0
}
